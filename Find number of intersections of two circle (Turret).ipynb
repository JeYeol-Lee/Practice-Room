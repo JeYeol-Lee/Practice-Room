{
 "cells": [
  {
   "cell_type": "code",
   "execution_count": 47,
   "metadata": {
    "collapsed": false
   },
   "outputs": [
    {
     "name": "stdout",
     "output_type": "stream",
     "text": [
      "3\n",
      "0 0 13 40 0 37\n",
      "0 0 3 0 7 4\n",
      "1 1 1 1 1 5\n",
      "2\n",
      "1\n",
      "0\n"
     ]
    }
   ],
   "source": [
    "'''\n",
    "조규현의 좌표 (x1, y1)와 백승환의 좌표 (x2, y2)가 주어지고, 조규현이 계산한 류재명과의 거리 r1과 백승환이 계산한 류재명과의 거리 r2가 주어졌을 때, 류재명이 있을 수 있는 좌표의 수를 출력하는 프로그램을 작성하시오.\n",
    "\n",
    "입력\n",
    "첫째 줄에 테스트 케이스의 개수 T가 주어진다. 각 테스트 케이스는 다음과 같이 구성되어있다.\n",
    "\n",
    "첫째 줄에 x1, y1, r1, x2, y2, r2가 주어진다. x1, y1, x2, y2는 -10,000보다 크거나 같고, 10,000보다 작거나 같은 정수이고, r1, r2는 10,000보다 작거나 같은 자연수이다.\n",
    "\n",
    "출력\n",
    "각 테스트 케이스마다 류재명이 있을 수 있는 위치의 수를 출력한다. 만약 류재명이 있을 수 있는 위치의 개수가 무한대일 경우에는 -1을 출력한다.\n",
    "'''\n",
    "\n",
    "import math\n",
    "T = int(input())\n",
    "TestCase=[list(map(int,input().split(' '))) for i in range(T)]\n",
    "#map(func,list)함수는 pyhon3에서 잘 동작하지 않는다. List(map(func,list))를 사용하자.\n",
    "\n",
    "result=[0 for i in range(T)]\n",
    "\n",
    "def CalcDistance(x1,y1,x2,y2):\n",
    "    result = math.sqrt(pow(abs(x1-x2),2)+pow(abs(y1-y2),2))\n",
    "    return result\n",
    "\n",
    "for j in range(T):\n",
    "    L3 = CalcDistance(TestCase[j][0],TestCase[j][1],TestCase[j][3],TestCase[j][4])\n",
    "\n",
    "    if L3 == 0 and TestCase[j][2]==TestCase[j][5]:\n",
    "        result[j] = -1\n",
    "    elif TestCase[j][2]+TestCase[j][5] < L3 or TestCase[j][2]> L3+TestCase[j][5] or L3+TestCase[j][2]<TestCase[j][5]:\n",
    "        result[j] = 0\n",
    "    elif TestCase[j][2]+TestCase[j][5] == L3 or TestCase[j][2]== L3+TestCase[j][5] or L3+TestCase[j][2]==TestCase[j][5]:\n",
    "        result[j] = 1\n",
    "    elif TestCase[j][2]+TestCase[j][5] > L3:\n",
    "        result[j] = 2\n",
    "        \n",
    "for i in range(T):\n",
    "    print(result[i])"
   ]
  }
 ],
 "metadata": {
  "kernelspec": {
   "display_name": "Python 3",
   "language": "python",
   "name": "python3"
  },
  "language_info": {
   "codemirror_mode": {
    "name": "ipython",
    "version": 3
   },
   "file_extension": ".py",
   "mimetype": "text/x-python",
   "name": "python",
   "nbconvert_exporter": "python",
   "pygments_lexer": "ipython3",
   "version": "3.6.0"
  }
 },
 "nbformat": 4,
 "nbformat_minor": 2
}
