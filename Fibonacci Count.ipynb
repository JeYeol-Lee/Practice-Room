{
 "cells": [
  {
   "cell_type": "code",
   "execution_count": 1,
   "metadata": {
    "collapsed": false
   },
   "outputs": [
    {
     "name": "stdout",
     "output_type": "stream",
     "text": [
      "1\n",
      "40\n",
      "63245986 102334155\n"
     ]
    }
   ],
   "source": [
    "# 문제에선 재귀 함수를 예시로 줘놓고 다이나믹 프로그래밍을 이용해야했던 이상한 문제..\n",
    "# 재귀로 풀었을 때는 O(n) 복잡도가 너무 크다. 따라서 느리다.\n",
    "\n",
    "'''\n",
    "Fib_0 = 0\n",
    "Fib_1 = 0\n",
    "\n",
    "def fibonacci(n):\n",
    "    if n==0 :\n",
    "        global Fib_0\n",
    "        Fib_0 = Fib_0 + 1\n",
    "        return 0\n",
    "    elif n==1 :\n",
    "        global Fib_1 \n",
    "        Fib_1= Fib_1 + 1\n",
    "        return 1\n",
    "    else:\n",
    "        return fibonacci(n-1) + fibonacci(n-2)\n",
    "\n",
    "\n",
    "T = int(input())\n",
    "\n",
    "for i in range(T):\n",
    "    fibonacci(int(input()))\n",
    "    result[i][0] = str(Fib_0)\n",
    "    result[i][1] = str(Fib_1)\n",
    "    Fib_0 = 0\n",
    "    Fib_1 = 0\n",
    "    \n",
    "for i in range(T):\n",
    "        print(result[i][0]+\" \"+result[i][1])\n",
    "'''\n",
    "\n",
    "\n",
    "\n",
    "\n",
    "# Dynamic Programming을 이용하여 풀어보자.\n",
    "def fibonacci_call_count(num,n):\n",
    "    if num == 0:\n",
    "        global Fib_0\n",
    "        if n == 0:\n",
    "            return Fib_0[n]\n",
    "        elif n == 1:\n",
    "            return Fib_0[n]\n",
    "        else:\n",
    "            if Fib_0[n]==0:\n",
    "                Fib_0[n] = fibonacci_call_count(0,n-1) +fibonacci_call_count(0,n-2)\n",
    "            return Fib_0[n]\n",
    "        \n",
    "    if num == 1:\n",
    "        global Fib_1\n",
    "        if n ==0:\n",
    "            return Fib_1[n]\n",
    "        elif n==1:\n",
    "            return  Fib_1[n]\n",
    "        else:\n",
    "            if Fib_1[n]==0:\n",
    "                Fib_1[n] = fibonacci_call_count(1,n-1) +fibonacci_call_count(1,n-2)\n",
    "            return Fib_1[n]\n",
    "\n",
    "\n",
    "def fibonacci(n):\n",
    "    global memo\n",
    "    global Fib_0\n",
    "    global Fib_1\n",
    "    if n == 0 :\n",
    "        return memo[n]\n",
    "    elif n==1:\n",
    "        return memo[n]\n",
    "    else:\n",
    "        if(memo[n]==0):\n",
    "            memo[n] = fibonacci(n-1) + fibonacci(n-2)\n",
    "            Fib_0[n] = fibonacci_call_count(0,n-1)+fibonacci_call_count(0,n-2)\n",
    "            Fib_1[n] = fibonacci_call_count(1,n-1)+fibonacci_call_count(1,n-2)\n",
    "        return memo[n]\n",
    "\n",
    "    \n",
    "    \n",
    "memo=[0 for i in range(41)]\n",
    "Fib_0=[0 for i in range(41)]\n",
    "Fib_1=[0 for i in range(41)]\n",
    "#40까지 주어지니 41짜리 배열을 생성해야함..\n",
    "memo[1] = 1\n",
    "Fib_0[0] =1\n",
    "Fib_1[1] =1\n",
    "    \n",
    "T=int(input())\n",
    "for i in range(T):\n",
    "    n = int(input())\n",
    "    fibonacci(n)\n",
    "    print(str(Fib_0[n])+\" \"+str(Fib_1[n]))\n",
    "\n",
    "\n",
    "   "
   ]
  },
  {
   "cell_type": "code",
   "execution_count": null,
   "metadata": {
    "collapsed": true
   },
   "outputs": [],
   "source": []
  },
  {
   "cell_type": "code",
   "execution_count": null,
   "metadata": {
    "collapsed": true
   },
   "outputs": [],
   "source": []
  }
 ],
 "metadata": {
  "kernelspec": {
   "display_name": "Python 3",
   "language": "python",
   "name": "python3"
  },
  "language_info": {
   "codemirror_mode": {
    "name": "ipython",
    "version": 3
   },
   "file_extension": ".py",
   "mimetype": "text/x-python",
   "name": "python",
   "nbconvert_exporter": "python",
   "pygments_lexer": "ipython3",
   "version": "3.5.2"
  }
 },
 "nbformat": 4,
 "nbformat_minor": 2
}
